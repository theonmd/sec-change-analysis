{
 "cells": [
  {
   "cell_type": "markdown",
   "metadata": {
    "cell_id": "7051d30e-d782-4bef-960b-89e47ad1436e",
    "deepnote_cell_height": 82,
    "deepnote_cell_type": "markdown",
    "tags": []
   },
   "source": [
    "# SEC Filings data extraction"
   ]
  },
  {
   "cell_type": "code",
   "execution_count": 1,
   "metadata": {
    "cell_id": "64540d30-3c0f-4710-af99-b7f0005a4c4e",
    "deepnote_cell_height": 171,
    "deepnote_cell_type": "code",
    "deepnote_to_be_reexecuted": false,
    "execution_millis": 238,
    "execution_start": 1647451449665,
    "source_hash": "5c1048c4",
    "tags": []
   },
   "outputs": [],
   "source": [
    "import pandas as pd\n",
    "import numpy as np\n",
    "import os\n",
    "from sec_edgar_downloader import Downloader\n",
    "import requests\n",
    "import shutil"
   ]
  },
  {
   "cell_type": "code",
   "execution_count": 2,
   "metadata": {
    "cell_id": "20bb3435-987a-468f-b868-bd01d8d23a1b",
    "deepnote_cell_height": 81,
    "deepnote_cell_type": "code",
    "deepnote_to_be_reexecuted": false,
    "execution_millis": 8,
    "execution_start": 1647451449908,
    "source_hash": "47c749f2",
    "tags": []
   },
   "outputs": [],
   "source": [
    "# Index file: https://www.sec.gov/Archives/edgar/full-index/2021/QTR1/"
   ]
  },
  {
   "cell_type": "code",
   "execution_count": 3,
   "metadata": {
    "cell_id": "6aecea71-8d19-4488-ad16-891ab826f225",
    "deepnote_cell_height": 207,
    "deepnote_cell_type": "code",
    "deepnote_to_be_reexecuted": false,
    "execution_millis": 2865,
    "execution_start": 1647451449923,
    "source_hash": "a76bbbdd",
    "tags": []
   },
   "outputs": [],
   "source": [
    "# Open the company idx file\n",
    "# years = ['2021', '2020', '2019', '2018', '2017', '2016', '2015', '2014', '2013', '2012', '2011', '2010']\n",
    "# comp_files = {}\n",
    "\n",
    "# for year in years:\n",
    "#     with open('./data/indexes/companies_files_{}.idx'.format(year), 'r') as idx:\n",
    "#         comp_file = idx.readlines()\n",
    "#         comp_files[year] = comp_file"
   ]
  },
  {
   "cell_type": "code",
   "execution_count": 4,
   "metadata": {
    "cell_id": "4c383ca9-861a-4ea1-a8e4-3b5137b1dd9d",
    "deepnote_cell_height": 396.1875,
    "deepnote_cell_type": "code",
    "deepnote_to_be_reexecuted": false,
    "execution_millis": 727,
    "execution_start": 1649357767903,
    "source_hash": "7aa68555",
    "tags": []
   },
   "outputs": [],
   "source": [
    "# doc_dic = {}\n",
    "\n",
    "# # Find the 100 first companies, their 10-K and their path\n",
    "# for year, sec_file in comp_files.items():\n",
    "#     doc_dic[year] = []\n",
    "#     #print(year)\n",
    "#     for i in comp_files[year]:\n",
    "#         loc1 = i.find('10-K')\n",
    "#         loc2 = i.find(\"NT 10-K\") \n",
    "#         loc3 = i.find(\"10-K/A\")\n",
    "\n",
    "#         #We strictly keep 10-K files, not NT 10-K or 10-K/A\n",
    "#         if (loc2 == -1) and (loc1 != -1) and (loc3 == -1):\n",
    "#             doc_dic[year].append(i)\n",
    "            "
   ]
  },
  {
   "cell_type": "code",
   "execution_count": 5,
   "metadata": {
    "cell_id": "a47d0dbc-bd23-4a48-8938-d48dff927106",
    "deepnote_cell_height": 549,
    "deepnote_cell_type": "code",
    "deepnote_to_be_reexecuted": false,
    "execution_millis": 250,
    "execution_start": 1647451457390,
    "source_hash": "d41bdce3",
    "tags": []
   },
   "outputs": [],
   "source": [
    "# find_dic = {\n",
    "#     'year': [],\n",
    "#     'company': [],\n",
    "#     'form': [],\n",
    "#     'CIK': [],\n",
    "#     'date': [],\n",
    "#     'path': []\n",
    "# }\n",
    "\n",
    "# # Create a dataframe with the files information\n",
    "# for year in doc_dic.keys():\n",
    "#     docs = doc_dic[year]\n",
    "#     for line in docs:\n",
    "#         split = line.split()\n",
    "\n",
    "#         # Append the relevant information to the dictionnary\n",
    "#         find_dic['year'].append(int(year))\n",
    "#         find_dic['path'].append('https://www.sec.gov/Archives/' + split[-1])\n",
    "#         find_dic['date'].append(split[-2])\n",
    "#         find_dic['CIK'].append(split[-3])\n",
    "#         find_dic['form'].append(split[-4])\n",
    "\n",
    "#         name = ' '.join(split[:-4])\n",
    "#         find_dic['company'].append(name)\n",
    "\n",
    "# find_df = pd.DataFrame(find_dic)\n"
   ]
  },
  {
   "cell_type": "code",
   "execution_count": 6,
   "metadata": {
    "cell_id": "aec9ea02-f254-40d4-b7d5-721436fd28dc",
    "deepnote_cell_height": 395,
    "deepnote_cell_type": "code",
    "deepnote_table_loading": false,
    "deepnote_table_state": {
     "filters": [],
     "pageIndex": 0,
     "pageSize": 10,
     "sortBy": []
    },
    "deepnote_to_be_reexecuted": false,
    "execution_millis": 26,
    "execution_start": 1647451457762,
    "source_hash": "b0af5fef",
    "tags": []
   },
   "outputs": [],
   "source": [
    "# find_df.head()"
   ]
  },
  {
   "cell_type": "code",
   "execution_count": 7,
   "metadata": {
    "cell_id": "09171983-b1a7-468d-90e7-85bf2ed45f64",
    "deepnote_cell_height": 117,
    "deepnote_cell_type": "code",
    "deepnote_table_loading": false,
    "deepnote_table_state": {
     "filters": [],
     "pageIndex": 0,
     "pageSize": 25,
     "sortBy": []
    },
    "deepnote_to_be_reexecuted": false,
    "execution_millis": 2,
    "execution_start": 1647451457792,
    "source_hash": "2b1879f0",
    "tags": []
   },
   "outputs": [],
   "source": [
    "# Extract all the companies that have a history of more than 5 10K files\n",
    "# more_5 = find_df.groupby(['company']).count().reset_index().query('year >= 5').company.unique()\n",
    "# print('Number of companies with more than 5 10K files: {}'.format(len(more_5)))"
   ]
  },
  {
   "cell_type": "markdown",
   "metadata": {
    "cell_id": "20bb263d-50c3-4ef4-9270-4ad7c75e0a46",
    "deepnote_cell_height": 70,
    "deepnote_cell_type": "markdown",
    "owner_user_id": "7b1de2ab-8498-4fc5-9964-81776db9e172",
    "tags": []
   },
   "source": [
    "## Other approach: use the SEC edgar downloader library"
   ]
  },
  {
   "cell_type": "code",
   "execution_count": 8,
   "metadata": {
    "cell_id": "0c7c7ee5-bfb8-4e73-ac09-9084a7ba1fbf",
    "deepnote_cell_height": 639,
    "deepnote_cell_type": "code",
    "deepnote_to_be_reexecuted": false,
    "execution_millis": 3,
    "execution_start": 1647451457812,
    "owner_user_id": "dbc99cf9-3590-44ff-ac62-08f2711bfc64",
    "source_hash": "d7b961f4",
    "tags": []
   },
   "outputs": [],
   "source": [
    "def files_downloader(file_type, comp_code, n):\n",
    "    '''\n",
    "    Functiont that takes as an input a company code (stock exchange code), a file type and a number of files to download\n",
    "    Downloads all the corresponding files and stores them in the correct folder\n",
    "    '''\n",
    "    comp_path = './data/{comp}'.format(comp = comp_code)\n",
    "    comp_raw_path = './data/{comp}/raw'.format(comp = comp_code)\n",
    "\n",
    "    if not os.path.isdir(comp_path):\n",
    "        os.makedirs(comp_path)\n",
    "        \n",
    "        if not os.path.isdir(comp_raw_path):\n",
    "            os.makedirs(comp_raw_path)\n",
    "\n",
    "    dl = Downloader(comp_raw_path)\n",
    "    dl.get(file_type, comp_code, amount = n)\n",
    "\n",
    "    # Get all the folders in the created folder\n",
    "    files_path = os.path.join(comp_raw_path, 'sec-edgar-filings', comp_code, file_type)\n",
    "    subf_list = [os.path.join(files_path, folder) for folder in os.listdir(files_path)]\n",
    "\n",
    "    # Get all the final files\n",
    "    final_files_list = [os.path.join(files_path, folder, 'full-submission.txt') for folder in os.listdir(files_path)]\n",
    "    years_list = [folder.split('-')[1] for folder in os.listdir(files_path)]\n",
    "\n",
    "    # Rename and move all the final files\n",
    "    for i in range(len(final_files_list)):\n",
    "        f_new_name = '{comp}_{year}.txt'.format(comp=comp_code, year=years_list[i])\n",
    "        os.replace(final_files_list[i], './data/{comp}/raw/{f}'.format(comp=comp_code, f=f_new_name))\n",
    "    \n",
    "    # Delete the useless folders\n",
    "    shutil.rmtree('./data/{comp}/raw/sec-edgar-filings'.format(comp=comp_code))"
   ]
  },
  {
   "cell_type": "code",
   "execution_count": 9,
   "metadata": {
    "cell_id": "a25d078e-a75d-4903-a0cf-5d6e4b4826ff",
    "deepnote_cell_height": 162.1875,
    "deepnote_cell_type": "code",
    "deepnote_to_be_reexecuted": false,
    "execution_millis": 259,
    "execution_start": 1649010552873,
    "owner_user_id": "84094537-d0b3-4bb4-8a57-76f1d8ff63d1",
    "source_hash": "96f2dd9e",
    "tags": []
   },
   "outputs": [],
   "source": [
    "# # Download the last 5 10-k files from Apple\n",
    "# files_downloader(\"10-K\", \"AAPL\", n = 20)"
   ]
  },
  {
   "cell_type": "code",
   "execution_count": null,
   "metadata": {
    "cell_id": "2b0ac48b-2a70-4457-afda-28e9d3982787",
    "deepnote_cell_height": 81,
    "deepnote_cell_type": "code",
    "deepnote_to_be_reexecuted": false,
    "execution_millis": 5,
    "execution_start": 1647451483370,
    "source_hash": "b623e53d",
    "tags": []
   },
   "outputs": [],
   "source": []
  }
 ],
 "metadata": {
  "deepnote": {
   "is_reactive": false
  },
  "deepnote_execution_queue": [],
  "deepnote_notebook_id": "19b413d5-ad14-4a4c-b0d3-056c6ffd50bb",
  "kernelspec": {
   "display_name": "Python 3 (ipykernel)",
   "language": "python",
   "name": "python3"
  },
  "language_info": {
   "codemirror_mode": {
    "name": "ipython",
    "version": 3
   },
   "file_extension": ".py",
   "mimetype": "text/x-python",
   "name": "python",
   "nbconvert_exporter": "python",
   "pygments_lexer": "ipython3",
   "version": "3.9.7"
  }
 },
 "nbformat": 4,
 "nbformat_minor": 4
}
